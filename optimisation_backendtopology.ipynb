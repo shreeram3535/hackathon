{
 "cells": [
  {
   "cell_type": "code",
   "execution_count": null,
   "metadata": {},
   "outputs": [],
   "source": [
    "from qiskit.test.mock import FakeVigo\n",
    "device_backend = FakeVigo()\n",
    "# The device coupling map is needed for transpiling to correct\n",
    "# CNOT gates before simulation\n",
    "coupling_map = device_backend.configuration().coupling_map\n",
    "optimized_3 = transpile(qc1, backend=device_backend, seed_transpiler=11, optimization_level=3)\n",
    "print(‘gates = ’, optimized_3.count_ops())\n",
    "print(‘depth = ’, optimized_3.depth())"
   ]
  }
 ],
 "metadata": {
  "kernelspec": {
   "display_name": "Python 3",
   "language": "python",
   "name": "python3"
  },
  "language_info": {
   "codemirror_mode": {
    "name": "ipython",
    "version": 3
   },
   "file_extension": ".py",
   "mimetype": "text/x-python",
   "name": "python",
   "nbconvert_exporter": "python",
   "pygments_lexer": "ipython3",
   "version": "3.7.3"
  }
 },
 "nbformat": 4,
 "nbformat_minor": 2
}
